{
 "cells": [
  {
   "cell_type": "code",
   "execution_count": 4,
   "metadata": {},
   "outputs": [],
   "source": [
    "import json\n",
    "import copy\n",
    "import src.models.a2c as a2c\n",
    "from concurrent.futures import ThreadPoolExecutor\n",
    "from concurrent.futures import as_completed\n",
    "\n",
    "import concurrent.futures\n",
    "import numpy as np\n",
    "import tensorflow as tf\n",
    "import gym\n",
    "import scipy.signal\n",
    "from src.utils import *\n",
    "import argparse\n",
    "from time import sleep\n",
    "\n",
    "import torch\n",
    "import torch.nn as nn\n",
    "import torch.optim as optim\n",
    "import torch.autograd as autograd\n",
    "import torch.nn.functional as F\n",
    "from torch.autograd import Variable\n",
    "from torch.utils.data import Dataset, DataLoader\n",
    "\n",
    "discount = 0.99\n",
    "env = get_env(\"configs/env.json\")\n",
    "\n",
    "sds = []\n",
    "cnt = []\n",
    "with open(\"configs/env.json\", 'r') as f:\n",
    "    config = json.load(f)\n",
    "\n",
    "observation = env.reset(seq_no=0 % 50)\n",
    "discount = 1.00\n",
    "max_job_length = config['max_job_length']\n",
    "capa = config['n_resource_slot_capacities']\n",
    "n_resources = len(config['n_resource_slot_capacities'])\n",
    "input_size = max_job_length * n_resources + 1\n",
    "state_size = np.prod(observation['machine'].shape)\n",
    "embedding_size = hidden_size = 24"
   ]
  },
  {
   "cell_type": "code",
   "execution_count": 5,
   "metadata": {},
   "outputs": [],
   "source": [
    "import importlib\n",
    "import numpy as np "
   ]
  },
  {
   "cell_type": "code",
   "execution_count": 9,
   "metadata": {
    "scrolled": true
   },
   "outputs": [
    {
     "name": "stderr",
     "output_type": "stream",
     "text": [
      "  0%|          | 1/1000 [00:23<6:35:06, 23.73s/it]"
     ]
    },
    {
     "name": "stdout",
     "output_type": "stream",
     "text": [
      "avg rewards: -1.851\tavg slowdowns: 5.788  fjc: 889\n",
      "[0.40396125 0.44243631 0.42848583]\n"
     ]
    },
    {
     "name": "stderr",
     "output_type": "stream",
     "text": [
      "  1%|          | 6/1000 [01:45<5:00:33, 18.14s/it]"
     ]
    },
    {
     "name": "stdout",
     "output_type": "stream",
     "text": [
      "avg rewards: -1.823\tavg slowdowns: 5.593  fjc: 889\n",
      "[0.40791304 0.44676449 0.43267754]\n"
     ]
    },
    {
     "name": "stderr",
     "output_type": "stream",
     "text": [
      "  1%|          | 11/1000 [03:11<5:19:00, 19.35s/it]"
     ]
    },
    {
     "name": "stdout",
     "output_type": "stream",
     "text": [
      "avg rewards: -1.913\tavg slowdowns: 6.000  fjc: 889\n",
      "[0.40352688 0.44196057 0.42802509]\n"
     ]
    },
    {
     "name": "stderr",
     "output_type": "stream",
     "text": [
      "  2%|▏         | 16/1000 [05:06<6:36:28, 24.18s/it]"
     ]
    },
    {
     "name": "stdout",
     "output_type": "stream",
     "text": [
      "avg rewards: -1.939\tavg slowdowns: 5.973  fjc: 889\n",
      "[0.40984347 0.44887878 0.43472515]\n"
     ]
    },
    {
     "name": "stderr",
     "output_type": "stream",
     "text": [
      "  2%|▏         | 21/1000 [06:26<4:59:54, 18.38s/it]"
     ]
    },
    {
     "name": "stdout",
     "output_type": "stream",
     "text": [
      "avg rewards: -1.917\tavg slowdowns: 5.960  fjc: 889\n",
      "[0.40644043 0.44515162 0.43111552]\n"
     ]
    },
    {
     "name": "stderr",
     "output_type": "stream",
     "text": [
      "  3%|▎         | 26/1000 [07:58<5:16:28, 19.50s/it]"
     ]
    },
    {
     "name": "stdout",
     "output_type": "stream",
     "text": [
      "avg rewards: -1.857\tavg slowdowns: 5.830  fjc: 889\n",
      "[0.40614719 0.44483045 0.43080447]\n"
     ]
    },
    {
     "name": "stderr",
     "output_type": "stream",
     "text": [
      "  3%|▎         | 31/1000 [09:20<4:48:23, 17.86s/it]"
     ]
    },
    {
     "name": "stdout",
     "output_type": "stream",
     "text": [
      "avg rewards: -1.841\tavg slowdowns: 5.891  fjc: 889\n",
      "[0.3989511  0.43694897 0.42317151]\n"
     ]
    },
    {
     "name": "stderr",
     "output_type": "stream",
     "text": [
      "  4%|▎         | 36/1000 [10:36<4:32:25, 16.96s/it]"
     ]
    },
    {
     "name": "stdout",
     "output_type": "stream",
     "text": [
      "avg rewards: -1.934\tavg slowdowns: 6.053  fjc: 889\n",
      "[0.40600072 0.44467003 0.43064912]\n"
     ]
    },
    {
     "name": "stderr",
     "output_type": "stream",
     "text": [
      "  4%|▍         | 41/1000 [11:53<4:31:06, 16.96s/it]"
     ]
    },
    {
     "name": "stdout",
     "output_type": "stream",
     "text": [
      "avg rewards: -2.031\tavg slowdowns: 6.315  fjc: 889\n",
      "[0.40865336 0.44757532 0.43346279]\n"
     ]
    },
    {
     "name": "stderr",
     "output_type": "stream",
     "text": [
      "  5%|▍         | 46/1000 [13:09<4:33:29, 17.20s/it]"
     ]
    },
    {
     "name": "stdout",
     "output_type": "stream",
     "text": [
      "avg rewards: -1.968\tavg slowdowns: 6.134  fjc: 889\n",
      "[0.4068811  0.44563426 0.43158294]\n"
     ]
    },
    {
     "name": "stderr",
     "output_type": "stream",
     "text": [
      "  5%|▌         | 51/1000 [14:25<4:33:25, 17.29s/it]"
     ]
    },
    {
     "name": "stdout",
     "output_type": "stream",
     "text": [
      "avg rewards: -1.875\tavg slowdowns: 5.814  fjc: 889\n",
      "[0.40644043 0.44515162 0.43111552]\n"
     ]
    },
    {
     "name": "stderr",
     "output_type": "stream",
     "text": [
      "  6%|▌         | 56/1000 [15:52<4:57:06, 18.88s/it]"
     ]
    },
    {
     "name": "stdout",
     "output_type": "stream",
     "text": [
      "avg rewards: -1.821\tavg slowdowns: 5.680  fjc: 889\n",
      "[0.40425135 0.44275404 0.42879354]\n"
     ]
    },
    {
     "name": "stderr",
     "output_type": "stream",
     "text": [
      "  6%|▌         | 61/1000 [17:14<4:50:26, 18.56s/it]"
     ]
    },
    {
     "name": "stdout",
     "output_type": "stream",
     "text": [
      "avg rewards: -1.876\tavg slowdowns: 5.789  fjc: 889\n",
      "[0.40820885 0.44708847 0.4329913 ]\n"
     ]
    },
    {
     "name": "stderr",
     "output_type": "stream",
     "text": [
      "  7%|▋         | 66/1000 [18:39<4:56:30, 19.05s/it]"
     ]
    },
    {
     "name": "stdout",
     "output_type": "stream",
     "text": [
      "avg rewards: -1.855\tavg slowdowns: 5.777  fjc: 889\n",
      "[0.40526998 0.44386969 0.42987401]\n"
     ]
    },
    {
     "name": "stderr",
     "output_type": "stream",
     "text": [
      "  7%|▋         | 71/1000 [20:05<4:56:39, 19.16s/it]"
     ]
    },
    {
     "name": "stdout",
     "output_type": "stream",
     "text": [
      "avg rewards: -1.909\tavg slowdowns: 5.914  fjc: 889\n",
      "[0.40909884 0.44806323 0.43393532]\n"
     ]
    },
    {
     "name": "stderr",
     "output_type": "stream",
     "text": [
      "  8%|▊         | 76/1000 [21:35<5:01:37, 19.59s/it]"
     ]
    },
    {
     "name": "stdout",
     "output_type": "stream",
     "text": [
      "avg rewards: -1.912\tavg slowdowns: 5.917  fjc: 889\n",
      "[0.40541592 0.44402953 0.43002881]\n"
     ]
    },
    {
     "name": "stderr",
     "output_type": "stream",
     "text": [
      "  8%|▊         | 81/1000 [22:57<4:33:00, 17.82s/it]"
     ]
    },
    {
     "name": "stdout",
     "output_type": "stream",
     "text": [
      "avg rewards: -1.794\tavg slowdowns: 5.650  fjc: 889\n",
      "[0.40556196 0.44418948 0.43018372]\n"
     ]
    },
    {
     "name": "stderr",
     "output_type": "stream",
     "text": [
      "  9%|▊         | 86/1000 [24:17<4:27:24, 17.55s/it]"
     ]
    },
    {
     "name": "stdout",
     "output_type": "stream",
     "text": [
      "avg rewards: -1.945\tavg slowdowns: 6.080  fjc: 889\n",
      "[0.40512415 0.44370997 0.42971932]\n"
     ]
    },
    {
     "name": "stderr",
     "output_type": "stream",
     "text": [
      "  9%|▉         | 91/1000 [25:36<4:21:16, 17.25s/it]"
     ]
    },
    {
     "name": "stdout",
     "output_type": "stream",
     "text": [
      "avg rewards: -1.838\tavg slowdowns: 5.690  fjc: 889\n",
      "[0.4077653  0.44660268 0.43252083]\n"
     ]
    },
    {
     "name": "stderr",
     "output_type": "stream",
     "text": [
      " 10%|▉         | 96/1000 [26:56<4:27:51, 17.78s/it]"
     ]
    },
    {
     "name": "stdout",
     "output_type": "stream",
     "text": [
      "avg rewards: -1.815\tavg slowdowns: 5.737  fjc: 889\n",
      "[0.40309345 0.44148586 0.42756534]\n"
     ]
    },
    {
     "name": "stderr",
     "output_type": "stream",
     "text": [
      " 10%|█         | 101/1000 [28:13<4:18:23, 17.25s/it]"
     ]
    },
    {
     "name": "stdout",
     "output_type": "stream",
     "text": [
      "avg rewards: -1.866\tavg slowdowns: 5.789  fjc: 889\n",
      "[0.40556196 0.44418948 0.43018372]\n"
     ]
    },
    {
     "name": "stderr",
     "output_type": "stream",
     "text": [
      " 11%|█         | 106/1000 [29:37<4:33:35, 18.36s/it]"
     ]
    },
    {
     "name": "stdout",
     "output_type": "stream",
     "text": [
      "avg rewards: -1.854\tavg slowdowns: 5.751  fjc: 889\n",
      "[0.40526998 0.44386969 0.42987401]\n"
     ]
    },
    {
     "name": "stderr",
     "output_type": "stream",
     "text": [
      " 11%|█         | 111/1000 [31:04<4:38:47, 18.82s/it]"
     ]
    },
    {
     "name": "stdout",
     "output_type": "stream",
     "text": [
      "avg rewards: -1.870\tavg slowdowns: 5.867  fjc: 889\n",
      "[0.40425135 0.44275404 0.42879354]\n"
     ]
    },
    {
     "name": "stderr",
     "output_type": "stream",
     "text": [
      " 12%|█▏        | 116/1000 [32:32<4:37:23, 18.83s/it]"
     ]
    },
    {
     "name": "stdout",
     "output_type": "stream",
     "text": [
      "avg rewards: -1.827\tavg slowdowns: 5.662  fjc: 889\n",
      "[0.40761767 0.44644098 0.43236423]\n"
     ]
    },
    {
     "name": "stderr",
     "output_type": "stream",
     "text": [
      " 12%|█▏        | 121/1000 [33:56<4:33:08, 18.64s/it]"
     ]
    },
    {
     "name": "stdout",
     "output_type": "stream",
     "text": [
      "avg rewards: -1.951\tavg slowdowns: 6.040  fjc: 889\n",
      "[0.40806089 0.44692642 0.43283436]\n"
     ]
    },
    {
     "name": "stderr",
     "output_type": "stream",
     "text": [
      " 13%|█▎        | 126/1000 [35:26<4:48:16, 19.79s/it]"
     ]
    },
    {
     "name": "stdout",
     "output_type": "stream",
     "text": [
      "avg rewards: -1.853\tavg slowdowns: 5.762  fjc: 889\n",
      "[0.40644043 0.44515162 0.43111552]\n"
     ]
    },
    {
     "name": "stderr",
     "output_type": "stream",
     "text": [
      " 13%|█▎        | 131/1000 [36:50<4:30:43, 18.69s/it]"
     ]
    },
    {
     "name": "stdout",
     "output_type": "stream",
     "text": [
      "avg rewards: -1.892\tavg slowdowns: 5.876  fjc: 889\n",
      "[0.40658722 0.44531239 0.43127122]\n"
     ]
    },
    {
     "name": "stderr",
     "output_type": "stream",
     "text": [
      " 14%|█▎        | 136/1000 [38:05<4:08:27, 17.25s/it]"
     ]
    },
    {
     "name": "stdout",
     "output_type": "stream",
     "text": [
      "avg rewards: -1.850\tavg slowdowns: 5.621  fjc: 889\n",
      "[0.41164168 0.45084826 0.43663254]\n"
     ]
    },
    {
     "name": "stderr",
     "output_type": "stream",
     "text": [
      " 14%|█▍        | 141/1000 [39:17<4:03:10, 16.98s/it]"
     ]
    },
    {
     "name": "stdout",
     "output_type": "stream",
     "text": [
      "avg rewards: -1.942\tavg slowdowns: 5.961  fjc: 889\n",
      "[0.40939636 0.44838909 0.43425091]\n"
     ]
    },
    {
     "name": "stderr",
     "output_type": "stream",
     "text": [
      " 15%|█▍        | 146/1000 [40:33<3:52:56, 16.37s/it]"
     ]
    },
    {
     "name": "stdout",
     "output_type": "stream",
     "text": [
      "avg rewards: -1.955\tavg slowdowns: 5.975  fjc: 889\n",
      "[0.41330396 0.45266887 0.43839574]\n"
     ]
    },
    {
     "name": "stderr",
     "output_type": "stream",
     "text": [
      " 15%|█▌        | 151/1000 [41:51<3:52:20, 16.42s/it]"
     ]
    },
    {
     "name": "stdout",
     "output_type": "stream",
     "text": [
      "avg rewards: -1.929\tavg slowdowns: 6.000  fjc: 889\n",
      "[0.4067341  0.44547327 0.43142702]\n"
     ]
    },
    {
     "name": "stderr",
     "output_type": "stream",
     "text": [
      " 16%|█▌        | 156/1000 [43:13<4:14:36, 18.10s/it]"
     ]
    },
    {
     "name": "stdout",
     "output_type": "stream",
     "text": [
      "avg rewards: -1.954\tavg slowdowns: 6.146  fjc: 889\n",
      "[0.4077653  0.44660268 0.43252083]\n"
     ]
    },
    {
     "name": "stderr",
     "output_type": "stream",
     "text": [
      " 16%|█▌        | 161/1000 [44:26<3:45:57, 16.16s/it]"
     ]
    },
    {
     "name": "stdout",
     "output_type": "stream",
     "text": [
      "avg rewards: -1.808\tavg slowdowns: 5.587  fjc: 889\n",
      "[0.40614719 0.44483045 0.43080447]\n"
     ]
    },
    {
     "name": "stderr",
     "output_type": "stream",
     "text": [
      " 17%|█▋        | 166/1000 [45:44<3:47:12, 16.35s/it]"
     ]
    },
    {
     "name": "stdout",
     "output_type": "stream",
     "text": [
      "avg rewards: -1.893\tavg slowdowns: 5.893  fjc: 889\n",
      "[0.40850508 0.44741292 0.43330552]\n"
     ]
    },
    {
     "name": "stderr",
     "output_type": "stream",
     "text": [
      " 17%|█▋        | 171/1000 [47:01<3:58:22, 17.25s/it]"
     ]
    },
    {
     "name": "stdout",
     "output_type": "stream",
     "text": [
      "avg rewards: -1.855\tavg slowdowns: 5.742  fjc: 889\n",
      "[0.40865336 0.44757532 0.43346279]\n"
     ]
    },
    {
     "name": "stderr",
     "output_type": "stream",
     "text": [
      " 18%|█▊        | 176/1000 [48:14<3:50:26, 16.78s/it]"
     ]
    },
    {
     "name": "stdout",
     "output_type": "stream",
     "text": [
      "avg rewards: -1.883\tavg slowdowns: 5.941  fjc: 889\n",
      "[0.40497842 0.44355036 0.42956475]\n"
     ]
    },
    {
     "name": "stderr",
     "output_type": "stream",
     "text": [
      " 18%|█▊        | 181/1000 [49:37<4:01:41, 17.71s/it]"
     ]
    },
    {
     "name": "stdout",
     "output_type": "stream",
     "text": [
      "avg rewards: -1.960\tavg slowdowns: 6.145  fjc: 889\n",
      "[0.40483279 0.44339087 0.42941028]\n"
     ]
    },
    {
     "name": "stderr",
     "output_type": "stream",
     "text": [
      " 19%|█▊        | 186/1000 [50:57<3:54:41, 17.30s/it]"
     ]
    },
    {
     "name": "stdout",
     "output_type": "stream",
     "text": [
      "avg rewards: -1.927\tavg slowdowns: 6.022  fjc: 889\n",
      "[0.40658722 0.44531239 0.43127122]\n"
     ]
    },
    {
     "name": "stderr",
     "output_type": "stream",
     "text": [
      " 19%|█▉        | 191/1000 [52:12<3:48:01, 16.91s/it]"
     ]
    },
    {
     "name": "stdout",
     "output_type": "stream",
     "text": [
      "avg rewards: -1.818\tavg slowdowns: 5.692  fjc: 889\n",
      "[0.4068811  0.44563426 0.43158294]\n"
     ]
    },
    {
     "name": "stderr",
     "output_type": "stream",
     "text": [
      " 20%|█▉        | 196/1000 [53:29<4:04:55, 18.28s/it]"
     ]
    },
    {
     "name": "stdout",
     "output_type": "stream",
     "text": [
      "avg rewards: -1.901\tavg slowdowns: 5.890  fjc: 889\n",
      "[0.40629376 0.44499098 0.43095994]\n"
     ]
    },
    {
     "name": "stderr",
     "output_type": "stream",
     "text": [
      " 20%|██        | 201/1000 [54:58<4:20:04, 19.53s/it]"
     ]
    },
    {
     "name": "stdout",
     "output_type": "stream",
     "text": [
      "avg rewards: -1.881\tavg slowdowns: 5.721  fjc: 889\n",
      "[0.41149123 0.45068348 0.43647295]\n"
     ]
    },
    {
     "name": "stderr",
     "output_type": "stream",
     "text": [
      " 21%|██        | 206/1000 [56:16<3:55:35, 17.80s/it]"
     ]
    },
    {
     "name": "stdout",
     "output_type": "stream",
     "text": [
      "avg rewards: -1.941\tavg slowdowns: 6.011  fjc: 889\n",
      "[0.40939636 0.44838909 0.43425091]\n"
     ]
    },
    {
     "name": "stderr",
     "output_type": "stream",
     "text": [
      " 21%|██        | 211/1000 [57:32<3:39:30, 16.69s/it]"
     ]
    },
    {
     "name": "stdout",
     "output_type": "stream",
     "text": [
      "avg rewards: -1.904\tavg slowdowns: 5.900  fjc: 889\n",
      "[0.4077653  0.44660268 0.43252083]\n"
     ]
    },
    {
     "name": "stderr",
     "output_type": "stream",
     "text": [
      " 22%|██▏       | 216/1000 [58:55<3:48:59, 17.53s/it]"
     ]
    },
    {
     "name": "stdout",
     "output_type": "stream",
     "text": [
      "avg rewards: -1.861\tavg slowdowns: 5.678  fjc: 889\n",
      "[0.41044112 0.44953336 0.4353591 ]\n"
     ]
    },
    {
     "name": "stderr",
     "output_type": "stream",
     "text": [
      " 22%|██▏       | 221/1000 [1:00:15<3:49:55, 17.71s/it]"
     ]
    },
    {
     "name": "stdout",
     "output_type": "stream",
     "text": [
      "avg rewards: -1.973\tavg slowdowns: 6.193  fjc: 889\n",
      "[0.40526998 0.44386969 0.42987401]\n"
     ]
    },
    {
     "name": "stderr",
     "output_type": "stream",
     "text": [
      " 23%|██▎       | 226/1000 [1:01:28<3:38:52, 16.97s/it]"
     ]
    },
    {
     "name": "stdout",
     "output_type": "stream",
     "text": [
      "avg rewards: -2.034\tavg slowdowns: 6.302  fjc: 889\n",
      "[0.40658722 0.44531239 0.43127122]\n"
     ]
    },
    {
     "name": "stderr",
     "output_type": "stream",
     "text": [
      " 23%|██▎       | 231/1000 [1:02:45<3:35:01, 16.78s/it]"
     ]
    },
    {
     "name": "stdout",
     "output_type": "stream",
     "text": [
      "avg rewards: -1.881\tavg slowdowns: 5.845  fjc: 889\n",
      "[0.40865336 0.44757532 0.43346279]\n"
     ]
    },
    {
     "name": "stderr",
     "output_type": "stream",
     "text": [
      " 24%|██▎       | 236/1000 [1:04:06<3:43:15, 17.53s/it]"
     ]
    },
    {
     "name": "stdout",
     "output_type": "stream",
     "text": [
      "avg rewards: -1.919\tavg slowdowns: 6.025  fjc: 889\n",
      "[0.40585436 0.44450973 0.43049387]\n"
     ]
    },
    {
     "name": "stderr",
     "output_type": "stream",
     "text": [
      " 24%|██▍       | 241/1000 [1:05:26<3:55:05, 18.58s/it]"
     ]
    },
    {
     "name": "stdout",
     "output_type": "stream",
     "text": [
      "avg rewards: -1.984\tavg slowdowns: 6.192  fjc: 889\n",
      "[0.40658722 0.44531239 0.43127122]\n"
     ]
    },
    {
     "name": "stderr",
     "output_type": "stream",
     "text": [
      " 25%|██▍       | 246/1000 [1:06:44<3:38:17, 17.37s/it]"
     ]
    },
    {
     "name": "stdout",
     "output_type": "stream",
     "text": [
      "avg rewards: -1.777\tavg slowdowns: 5.554  fjc: 889\n",
      "[0.40497842 0.44355036 0.42956475]\n"
     ]
    },
    {
     "name": "stderr",
     "output_type": "stream",
     "text": [
      " 25%|██▌       | 251/1000 [1:08:00<3:29:37, 16.79s/it]"
     ]
    },
    {
     "name": "stdout",
     "output_type": "stream",
     "text": [
      "avg rewards: -1.944\tavg slowdowns: 5.994  fjc: 889\n",
      "[0.40717541 0.4459566  0.43189512]\n"
     ]
    },
    {
     "name": "stderr",
     "output_type": "stream",
     "text": [
      " 26%|██▌       | 256/1000 [1:09:19<3:31:06, 17.02s/it]"
     ]
    },
    {
     "name": "stdout",
     "output_type": "stream",
     "text": [
      "avg rewards: -1.824\tavg slowdowns: 5.665  fjc: 889\n",
      "[0.40644043 0.44515162 0.43111552]\n"
     ]
    },
    {
     "name": "stderr",
     "output_type": "stream",
     "text": [
      " 26%|██▌       | 261/1000 [1:10:39<3:31:56, 17.21s/it]"
     ]
    },
    {
     "name": "stdout",
     "output_type": "stream",
     "text": [
      "avg rewards: -1.910\tavg slowdowns: 5.819  fjc: 889\n",
      "[0.40909884 0.44806323 0.43393532]\n"
     ]
    },
    {
     "name": "stderr",
     "output_type": "stream",
     "text": [
      " 27%|██▋       | 266/1000 [1:12:04<3:49:45, 18.78s/it]"
     ]
    },
    {
     "name": "stdout",
     "output_type": "stream",
     "text": [
      "avg rewards: -1.904\tavg slowdowns: 5.931  fjc: 889\n",
      "[0.40969432 0.44871543 0.43456696]\n"
     ]
    },
    {
     "name": "stderr",
     "output_type": "stream",
     "text": [
      " 27%|██▋       | 271/1000 [1:13:32<4:02:09, 19.93s/it]"
     ]
    },
    {
     "name": "stdout",
     "output_type": "stream",
     "text": [
      "avg rewards: -1.943\tavg slowdowns: 6.064  fjc: 889\n",
      "[0.40468728 0.44323149 0.42925593]\n"
     ]
    },
    {
     "name": "stderr",
     "output_type": "stream",
     "text": [
      " 28%|██▊       | 276/1000 [1:14:56<3:48:21, 18.92s/it]"
     ]
    },
    {
     "name": "stdout",
     "output_type": "stream",
     "text": [
      "avg rewards: -1.875\tavg slowdowns: 5.882  fjc: 889\n",
      "[0.40570811 0.44434955 0.43033874]\n"
     ]
    },
    {
     "name": "stderr",
     "output_type": "stream",
     "text": [
      " 28%|██▊       | 281/1000 [1:16:20<3:44:10, 18.71s/it]"
     ]
    },
    {
     "name": "stdout",
     "output_type": "stream",
     "text": [
      "avg rewards: -1.847\tavg slowdowns: 5.744  fjc: 889\n",
      "[0.40468728 0.44323149 0.42925593]\n"
     ]
    },
    {
     "name": "stderr",
     "output_type": "stream",
     "text": [
      " 29%|██▊       | 286/1000 [1:17:49<3:51:43, 19.47s/it]"
     ]
    },
    {
     "name": "stdout",
     "output_type": "stream",
     "text": [
      "avg rewards: -1.824\tavg slowdowns: 5.726  fjc: 889\n",
      "[0.40136898 0.43959715 0.42573619]\n"
     ]
    },
    {
     "name": "stderr",
     "output_type": "stream",
     "text": [
      " 29%|██▉       | 291/1000 [1:19:19<3:49:34, 19.43s/it]"
     ]
    },
    {
     "name": "stdout",
     "output_type": "stream",
     "text": [
      "avg rewards: -1.884\tavg slowdowns: 5.880  fjc: 889\n",
      "[0.4077653  0.44660268 0.43252083]\n"
     ]
    },
    {
     "name": "stderr",
     "output_type": "stream",
     "text": [
      " 30%|██▉       | 296/1000 [1:20:40<3:36:02, 18.41s/it]"
     ]
    },
    {
     "name": "stdout",
     "output_type": "stream",
     "text": [
      "avg rewards: -2.000\tavg slowdowns: 6.306  fjc: 889\n",
      "[0.40454186 0.44307222 0.42910169]\n"
     ]
    },
    {
     "name": "stderr",
     "output_type": "stream",
     "text": [
      " 30%|███       | 301/1000 [1:22:07<3:49:22, 19.69s/it]"
     ]
    },
    {
     "name": "stdout",
     "output_type": "stream",
     "text": [
      "avg rewards: -1.854\tavg slowdowns: 5.786  fjc: 889\n",
      "[0.40644043 0.44515162 0.43111552]\n"
     ]
    },
    {
     "name": "stderr",
     "output_type": "stream",
     "text": [
      " 31%|███       | 306/1000 [1:23:34<3:38:48, 18.92s/it]"
     ]
    },
    {
     "name": "stdout",
     "output_type": "stream",
     "text": [
      "avg rewards: -1.875\tavg slowdowns: 5.785  fjc: 889\n",
      "[0.40924755 0.4482261  0.43409306]\n"
     ]
    },
    {
     "name": "stderr",
     "output_type": "stream",
     "text": [
      " 31%|███       | 311/1000 [1:24:48<3:21:49, 17.58s/it]"
     ]
    },
    {
     "name": "stdout",
     "output_type": "stream",
     "text": [
      "avg rewards: -1.946\tavg slowdowns: 6.074  fjc: 889\n",
      "[0.40585436 0.44450973 0.43049387]\n"
     ]
    },
    {
     "name": "stderr",
     "output_type": "stream",
     "text": [
      " 32%|███▏      | 316/1000 [1:26:05<3:20:47, 17.61s/it]"
     ]
    },
    {
     "name": "stdout",
     "output_type": "stream",
     "text": [
      "avg rewards: -1.851\tavg slowdowns: 5.799  fjc: 889\n",
      "[0.40541592 0.44402953 0.43002881]\n"
     ]
    },
    {
     "name": "stderr",
     "output_type": "stream",
     "text": [
      " 32%|███▏      | 321/1000 [1:27:30<3:32:08, 18.75s/it]"
     ]
    },
    {
     "name": "stdout",
     "output_type": "stream",
     "text": [
      "avg rewards: -1.916\tavg slowdowns: 5.948  fjc: 889\n",
      "[0.40909884 0.44806323 0.43393532]\n"
     ]
    },
    {
     "name": "stderr",
     "output_type": "stream",
     "text": [
      " 33%|███▎      | 326/1000 [1:28:49<3:16:57, 17.53s/it]"
     ]
    },
    {
     "name": "stdout",
     "output_type": "stream",
     "text": [
      "avg rewards: -1.941\tavg slowdowns: 5.996  fjc: 889\n",
      "[0.40924755 0.4482261  0.43409306]\n"
     ]
    },
    {
     "name": "stderr",
     "output_type": "stream",
     "text": [
      " 33%|███▎      | 331/1000 [1:30:13<3:16:16, 17.60s/it]"
     ]
    },
    {
     "name": "stdout",
     "output_type": "stream",
     "text": [
      "avg rewards: -1.873\tavg slowdowns: 5.841  fjc: 889\n",
      "[0.40396125 0.44243631 0.42848583]\n"
     ]
    },
    {
     "name": "stderr",
     "output_type": "stream",
     "text": [
      " 34%|███▎      | 336/1000 [1:31:35<3:20:21, 18.11s/it]"
     ]
    },
    {
     "name": "stdout",
     "output_type": "stream",
     "text": [
      "avg rewards: -1.846\tavg slowdowns: 5.688  fjc: 889\n",
      "[0.40526998 0.44386969 0.42987401]\n"
     ]
    },
    {
     "name": "stderr",
     "output_type": "stream",
     "text": [
      " 34%|███▍      | 341/1000 [1:32:48<3:03:14, 16.68s/it]"
     ]
    },
    {
     "name": "stdout",
     "output_type": "stream",
     "text": [
      "avg rewards: -1.962\tavg slowdowns: 6.079  fjc: 889\n",
      "[0.4068811  0.44563426 0.43158294]\n"
     ]
    },
    {
     "name": "stderr",
     "output_type": "stream",
     "text": [
      " 35%|███▍      | 346/1000 [1:34:06<3:02:37, 16.75s/it]"
     ]
    },
    {
     "name": "stdout",
     "output_type": "stream",
     "text": [
      "avg rewards: -1.939\tavg slowdowns: 6.038  fjc: 889\n",
      "[0.40512415 0.44370997 0.42971932]\n"
     ]
    },
    {
     "name": "stderr",
     "output_type": "stream",
     "text": [
      " 35%|███▌      | 351/1000 [1:35:26<3:16:32, 18.17s/it]"
     ]
    },
    {
     "name": "stdout",
     "output_type": "stream",
     "text": [
      "avg rewards: -1.897\tavg slowdowns: 5.781  fjc: 889\n",
      "[0.40850508 0.44741292 0.43330552]\n"
     ]
    },
    {
     "name": "stderr",
     "output_type": "stream",
     "text": [
      " 36%|███▌      | 356/1000 [1:36:48<3:05:27, 17.28s/it]"
     ]
    },
    {
     "name": "stdout",
     "output_type": "stream",
     "text": [
      "avg rewards: -1.899\tavg slowdowns: 5.793  fjc: 889\n",
      "[0.40791304 0.44676449 0.43267754]\n"
     ]
    },
    {
     "name": "stderr",
     "output_type": "stream",
     "text": [
      " 36%|███▌      | 361/1000 [1:38:05<2:59:21, 16.84s/it]"
     ]
    },
    {
     "name": "stdout",
     "output_type": "stream",
     "text": [
      "avg rewards: -1.934\tavg slowdowns: 6.091  fjc: 889\n",
      "[0.40294918 0.44132785 0.42741231]\n"
     ]
    },
    {
     "name": "stderr",
     "output_type": "stream",
     "text": [
      " 37%|███▋      | 366/1000 [1:39:27<3:05:01, 17.51s/it]"
     ]
    },
    {
     "name": "stdout",
     "output_type": "stream",
     "text": [
      "avg rewards: -1.904\tavg slowdowns: 5.974  fjc: 889\n",
      "[0.40497842 0.44355036 0.42956475]\n"
     ]
    },
    {
     "name": "stderr",
     "output_type": "stream",
     "text": [
      " 37%|███▋      | 371/1000 [1:40:40<2:53:09, 16.52s/it]"
     ]
    },
    {
     "name": "stdout",
     "output_type": "stream",
     "text": [
      "avg rewards: -1.838\tavg slowdowns: 5.737  fjc: 889\n",
      "[0.4067341  0.44547327 0.43142702]\n"
     ]
    },
    {
     "name": "stderr",
     "output_type": "stream",
     "text": [
      " 38%|███▊      | 376/1000 [1:41:49<2:45:43, 15.94s/it]"
     ]
    },
    {
     "name": "stdout",
     "output_type": "stream",
     "text": [
      "avg rewards: -1.908\tavg slowdowns: 5.899  fjc: 889\n",
      "[0.40820885 0.44708847 0.4329913 ]\n"
     ]
    },
    {
     "name": "stderr",
     "output_type": "stream",
     "text": [
      " 38%|███▊      | 381/1000 [1:43:15<3:00:15, 17.47s/it]"
     ]
    },
    {
     "name": "stdout",
     "output_type": "stream",
     "text": [
      "avg rewards: -1.902\tavg slowdowns: 5.921  fjc: 889\n",
      "[0.40410625 0.44259512 0.42863963]\n"
     ]
    },
    {
     "name": "stderr",
     "output_type": "stream",
     "text": [
      " 39%|███▊      | 386/1000 [1:44:43<3:22:44, 19.81s/it]"
     ]
    },
    {
     "name": "stdout",
     "output_type": "stream",
     "text": [
      "avg rewards: -1.952\tavg slowdowns: 6.073  fjc: 889\n",
      "[0.40820885 0.44708847 0.4329913 ]\n"
     ]
    },
    {
     "name": "stderr",
     "output_type": "stream",
     "text": [
      " 39%|███▉      | 391/1000 [1:46:08<3:05:03, 18.23s/it]"
     ]
    },
    {
     "name": "stdout",
     "output_type": "stream",
     "text": [
      "avg rewards: -1.879\tavg slowdowns: 5.927  fjc: 889\n",
      "[0.4006548  0.43881495 0.42497865]\n"
     ]
    },
    {
     "name": "stderr",
     "output_type": "stream",
     "text": [
      " 40%|███▉      | 396/1000 [1:47:31<3:04:53, 18.37s/it]"
     ]
    },
    {
     "name": "stdout",
     "output_type": "stream",
     "text": [
      "avg rewards: -1.935\tavg slowdowns: 5.987  fjc: 889\n",
      "[0.40381636 0.44227762 0.42833214]\n"
     ]
    },
    {
     "name": "stderr",
     "output_type": "stream",
     "text": [
      " 40%|████      | 401/1000 [1:48:46<2:52:47, 17.31s/it]"
     ]
    },
    {
     "name": "stdout",
     "output_type": "stream",
     "text": [
      "avg rewards: -1.854\tavg slowdowns: 5.755  fjc: 889\n",
      "[0.40850508 0.44741292 0.43330552]\n"
     ]
    },
    {
     "name": "stderr",
     "output_type": "stream",
     "text": [
      " 41%|████      | 406/1000 [1:50:03<2:43:48, 16.55s/it]"
     ]
    },
    {
     "name": "stdout",
     "output_type": "stream",
     "text": [
      "avg rewards: -1.867\tavg slowdowns: 5.819  fjc: 889\n",
      "[0.40629376 0.44499098 0.43095994]\n"
     ]
    },
    {
     "name": "stderr",
     "output_type": "stream",
     "text": [
      " 41%|████      | 411/1000 [1:51:31<3:06:04, 18.96s/it]"
     ]
    },
    {
     "name": "stdout",
     "output_type": "stream",
     "text": [
      "avg rewards: -1.861\tavg slowdowns: 5.732  fjc: 889\n",
      "[0.40644043 0.44515162 0.43111552]\n"
     ]
    },
    {
     "name": "stderr",
     "output_type": "stream",
     "text": [
      " 42%|████▏     | 416/1000 [1:52:45<2:38:43, 16.31s/it]"
     ]
    },
    {
     "name": "stdout",
     "output_type": "stream",
     "text": [
      "avg rewards: -1.953\tavg slowdowns: 6.152  fjc: 889\n",
      "[0.40396125 0.44243631 0.42848583]\n"
     ]
    },
    {
     "name": "stderr",
     "output_type": "stream",
     "text": [
      " 42%|████▏     | 421/1000 [1:53:56<2:32:03, 15.76s/it]"
     ]
    },
    {
     "name": "stdout",
     "output_type": "stream",
     "text": [
      "avg rewards: -1.973\tavg slowdowns: 6.167  fjc: 889\n",
      "[0.4077653  0.44660268 0.43252083]\n"
     ]
    },
    {
     "name": "stderr",
     "output_type": "stream",
     "text": [
      " 43%|████▎     | 426/1000 [1:55:20<2:57:20, 18.54s/it]"
     ]
    },
    {
     "name": "stdout",
     "output_type": "stream",
     "text": [
      "avg rewards: -1.898\tavg slowdowns: 5.910  fjc: 889\n",
      "[0.40468728 0.44323149 0.42925593]\n"
     ]
    },
    {
     "name": "stderr",
     "output_type": "stream",
     "text": [
      " 43%|████▎     | 431/1000 [1:56:30<2:33:34, 16.19s/it]"
     ]
    },
    {
     "name": "stdout",
     "output_type": "stream",
     "text": [
      "avg rewards: -1.831\tavg slowdowns: 5.758  fjc: 889\n",
      "[0.40526998 0.44386969 0.42987401]\n"
     ]
    },
    {
     "name": "stderr",
     "output_type": "stream",
     "text": [
      " 44%|████▎     | 436/1000 [1:57:49<2:44:00, 17.45s/it]"
     ]
    },
    {
     "name": "stdout",
     "output_type": "stream",
     "text": [
      "avg rewards: -1.937\tavg slowdowns: 6.077  fjc: 889\n",
      "[0.40791304 0.44676449 0.43267754]\n"
     ]
    },
    {
     "name": "stderr",
     "output_type": "stream",
     "text": [
      " 44%|████▍     | 441/1000 [1:59:13<2:50:01, 18.25s/it]"
     ]
    },
    {
     "name": "stdout",
     "output_type": "stream",
     "text": [
      "avg rewards: -1.911\tavg slowdowns: 5.897  fjc: 889\n",
      "[0.40865336 0.44757532 0.43346279]\n"
     ]
    },
    {
     "name": "stderr",
     "output_type": "stream",
     "text": [
      " 45%|████▍     | 446/1000 [2:00:26<2:37:16, 17.03s/it]"
     ]
    },
    {
     "name": "stdout",
     "output_type": "stream",
     "text": [
      "avg rewards: -1.831\tavg slowdowns: 5.758  fjc: 889\n",
      "[0.40208571 0.44038214 0.42649643]\n"
     ]
    },
    {
     "name": "stderr",
     "output_type": "stream",
     "text": [
      " 45%|████▌     | 451/1000 [2:01:46<2:45:55, 18.13s/it]"
     ]
    },
    {
     "name": "stdout",
     "output_type": "stream",
     "text": [
      "avg rewards: -1.935\tavg slowdowns: 6.023  fjc: 889\n",
      "[0.40895024 0.44790047 0.4337777 ]\n"
     ]
    },
    {
     "name": "stderr",
     "output_type": "stream",
     "text": [
      " 46%|████▌     | 456/1000 [2:03:18<2:59:07, 19.76s/it]"
     ]
    },
    {
     "name": "stdout",
     "output_type": "stream",
     "text": [
      "avg rewards: -1.864\tavg slowdowns: 5.787  fjc: 889\n",
      "[0.40600072 0.44467003 0.43064912]\n"
     ]
    },
    {
     "name": "stderr",
     "output_type": "stream",
     "text": [
      " 46%|████▌     | 461/1000 [2:04:43<2:54:32, 19.43s/it]"
     ]
    },
    {
     "name": "stdout",
     "output_type": "stream",
     "text": [
      "avg rewards: -1.849\tavg slowdowns: 5.739  fjc: 889\n",
      "[0.40850508 0.44741292 0.43330552]\n"
     ]
    },
    {
     "name": "stderr",
     "output_type": "stream",
     "text": [
      " 47%|████▋     | 466/1000 [2:06:10<2:52:06, 19.34s/it]"
     ]
    },
    {
     "name": "stdout",
     "output_type": "stream",
     "text": [
      "avg rewards: -1.863\tavg slowdowns: 5.776  fjc: 889\n",
      "[0.40644043 0.44515162 0.43111552]\n"
     ]
    },
    {
     "name": "stderr",
     "output_type": "stream",
     "text": [
      " 47%|████▋     | 471/1000 [2:07:25<2:38:15, 17.95s/it]"
     ]
    },
    {
     "name": "stdout",
     "output_type": "stream",
     "text": [
      "avg rewards: -1.930\tavg slowdowns: 5.987  fjc: 889\n",
      "[0.4067341  0.44547327 0.43142702]\n"
     ]
    },
    {
     "name": "stderr",
     "output_type": "stream",
     "text": [
      " 48%|████▊     | 476/1000 [2:08:43<2:35:31, 17.81s/it]"
     ]
    },
    {
     "name": "stdout",
     "output_type": "stream",
     "text": [
      "avg rewards: -1.852\tavg slowdowns: 5.816  fjc: 889\n",
      "[0.40094017 0.43912749 0.42528134]\n"
     ]
    },
    {
     "name": "stderr",
     "output_type": "stream",
     "text": [
      " 48%|████▊     | 481/1000 [2:10:09<2:42:23, 18.77s/it]"
     ]
    },
    {
     "name": "stdout",
     "output_type": "stream",
     "text": [
      "avg rewards: -1.943\tavg slowdowns: 6.045  fjc: 889\n",
      "[0.40909884 0.44806323 0.43393532]\n"
     ]
    },
    {
     "name": "stderr",
     "output_type": "stream",
     "text": [
      " 49%|████▊     | 486/1000 [2:11:31<2:34:03, 17.98s/it]"
     ]
    },
    {
     "name": "stdout",
     "output_type": "stream",
     "text": [
      "avg rewards: -1.864\tavg slowdowns: 5.853  fjc: 889\n",
      "[0.40280501 0.44116995 0.42725939]\n"
     ]
    },
    {
     "name": "stderr",
     "output_type": "stream",
     "text": [
      " 49%|████▉     | 491/1000 [2:13:00<2:42:40, 19.18s/it]"
     ]
    },
    {
     "name": "stdout",
     "output_type": "stream",
     "text": [
      "avg rewards: -1.859\tavg slowdowns: 5.701  fjc: 889\n",
      "[0.4077653  0.44660268 0.43252083]\n"
     ]
    },
    {
     "name": "stderr",
     "output_type": "stream",
     "text": [
      " 50%|████▉     | 496/1000 [2:14:25<2:46:22, 19.81s/it]"
     ]
    },
    {
     "name": "stdout",
     "output_type": "stream",
     "text": [
      "avg rewards: -1.890\tavg slowdowns: 5.882  fjc: 889\n",
      "[0.40512415 0.44370997 0.42971932]\n"
     ]
    },
    {
     "name": "stderr",
     "output_type": "stream",
     "text": [
      " 50%|█████     | 501/1000 [2:15:46<2:22:06, 17.09s/it]"
     ]
    },
    {
     "name": "stdout",
     "output_type": "stream",
     "text": [
      "avg rewards: -1.777\tavg slowdowns: 5.433  fjc: 889\n",
      "[0.40717541 0.4459566  0.43189512]\n"
     ]
    },
    {
     "name": "stderr",
     "output_type": "stream",
     "text": [
      " 51%|█████     | 506/1000 [2:16:56<2:12:38, 16.11s/it]"
     ]
    },
    {
     "name": "stdout",
     "output_type": "stream",
     "text": [
      "avg rewards: -1.913\tavg slowdowns: 5.921  fjc: 889\n",
      "[0.40585436 0.44450973 0.43049387]\n"
     ]
    },
    {
     "name": "stderr",
     "output_type": "stream",
     "text": [
      " 51%|█████     | 511/1000 [2:18:20<2:27:55, 18.15s/it]"
     ]
    },
    {
     "name": "stdout",
     "output_type": "stream",
     "text": [
      "avg rewards: -1.814\tavg slowdowns: 5.694  fjc: 889\n",
      "[0.40352688 0.44196057 0.42802509]\n"
     ]
    },
    {
     "name": "stderr",
     "output_type": "stream",
     "text": [
      " 52%|█████▏    | 516/1000 [2:19:38<2:16:18, 16.90s/it]"
     ]
    },
    {
     "name": "stdout",
     "output_type": "stream",
     "text": [
      "avg rewards: -1.875\tavg slowdowns: 5.858  fjc: 889\n",
      "[0.40323782 0.44164398 0.42771848]\n"
     ]
    },
    {
     "name": "stderr",
     "output_type": "stream",
     "text": [
      " 52%|█████▏    | 521/1000 [2:21:02<2:27:14, 18.44s/it]"
     ]
    },
    {
     "name": "stdout",
     "output_type": "stream",
     "text": [
      "avg rewards: -1.874\tavg slowdowns: 5.854  fjc: 889\n",
      "[0.40468728 0.44323149 0.42925593]\n"
     ]
    },
    {
     "name": "stderr",
     "output_type": "stream",
     "text": [
      " 53%|█████▎    | 526/1000 [2:22:17<2:13:09, 16.86s/it]"
     ]
    },
    {
     "name": "stdout",
     "output_type": "stream",
     "text": [
      "avg rewards: -1.957\tavg slowdowns: 6.131  fjc: 889\n",
      "[0.40208571 0.44038214 0.42649643]\n"
     ]
    },
    {
     "name": "stderr",
     "output_type": "stream",
     "text": [
      " 53%|█████▎    | 531/1000 [2:23:44<2:33:06, 19.59s/it]"
     ]
    },
    {
     "name": "stdout",
     "output_type": "stream",
     "text": [
      "avg rewards: -1.836\tavg slowdowns: 5.813  fjc: 889\n",
      "[0.40410625 0.44259512 0.42863963]\n"
     ]
    },
    {
     "name": "stderr",
     "output_type": "stream",
     "text": [
      " 54%|█████▎    | 536/1000 [2:25:17<2:34:40, 20.00s/it]"
     ]
    },
    {
     "name": "stdout",
     "output_type": "stream",
     "text": [
      "avg rewards: -1.969\tavg slowdowns: 6.140  fjc: 889\n",
      "[0.40806089 0.44692642 0.43283436]\n"
     ]
    },
    {
     "name": "stderr",
     "output_type": "stream",
     "text": [
      " 54%|█████▍    | 541/1000 [2:26:35<2:13:24, 17.44s/it]"
     ]
    },
    {
     "name": "stdout",
     "output_type": "stream",
     "text": [
      "avg rewards: -1.916\tavg slowdowns: 5.968  fjc: 889\n",
      "[0.40658722 0.44531239 0.43127122]\n"
     ]
    },
    {
     "name": "stderr",
     "output_type": "stream",
     "text": [
      " 55%|█████▍    | 546/1000 [2:27:53<2:08:40, 17.01s/it]"
     ]
    },
    {
     "name": "stdout",
     "output_type": "stream",
     "text": [
      "avg rewards: -1.787\tavg slowdowns: 5.496  fjc: 889\n",
      "[0.40984347 0.44887878 0.43472515]\n"
     ]
    },
    {
     "name": "stderr",
     "output_type": "stream",
     "text": [
      " 55%|█████▌    | 551/1000 [2:29:15<2:11:00, 17.51s/it]"
     ]
    },
    {
     "name": "stdout",
     "output_type": "stream",
     "text": [
      "avg rewards: -1.921\tavg slowdowns: 5.936  fjc: 889\n",
      "[0.40629376 0.44499098 0.43095994]\n"
     ]
    },
    {
     "name": "stderr",
     "output_type": "stream",
     "text": [
      " 56%|█████▌    | 556/1000 [2:30:30<2:04:33, 16.83s/it]"
     ]
    },
    {
     "name": "stdout",
     "output_type": "stream",
     "text": [
      "avg rewards: -1.902\tavg slowdowns: 5.923  fjc: 889\n",
      "[0.40541592 0.44402953 0.43002881]\n"
     ]
    },
    {
     "name": "stderr",
     "output_type": "stream",
     "text": [
      " 56%|█████▌    | 561/1000 [2:31:49<2:06:05, 17.23s/it]"
     ]
    },
    {
     "name": "stdout",
     "output_type": "stream",
     "text": [
      "avg rewards: -1.916\tavg slowdowns: 6.040  fjc: 889\n",
      "[0.40280501 0.44116995 0.42725939]\n"
     ]
    },
    {
     "name": "stderr",
     "output_type": "stream",
     "text": [
      " 57%|█████▋    | 566/1000 [2:33:08<2:09:54, 17.96s/it]"
     ]
    },
    {
     "name": "stdout",
     "output_type": "stream",
     "text": [
      "avg rewards: -2.005\tavg slowdowns: 6.260  fjc: 889\n",
      "[0.4070282  0.44579537 0.43173897]\n"
     ]
    },
    {
     "name": "stderr",
     "output_type": "stream",
     "text": [
      " 57%|█████▋    | 571/1000 [2:34:23<1:59:16, 16.68s/it]"
     ]
    },
    {
     "name": "stdout",
     "output_type": "stream",
     "text": [
      "avg rewards: -1.928\tavg slowdowns: 6.057  fjc: 889\n",
      "[0.40165537 0.43991081 0.42603996]\n"
     ]
    },
    {
     "name": "stderr",
     "output_type": "stream",
     "text": [
      " 58%|█████▊    | 576/1000 [2:35:47<2:12:48, 18.79s/it]"
     ]
    },
    {
     "name": "stdout",
     "output_type": "stream",
     "text": [
      "avg rewards: -1.941\tavg slowdowns: 6.053  fjc: 889\n",
      "[0.40658722 0.44531239 0.43127122]\n"
     ]
    },
    {
     "name": "stderr",
     "output_type": "stream",
     "text": [
      " 58%|█████▊    | 581/1000 [2:37:25<2:26:01, 20.91s/it]"
     ]
    },
    {
     "name": "stdout",
     "output_type": "stream",
     "text": [
      "avg rewards: -1.864\tavg slowdowns: 5.842  fjc: 889\n",
      "[0.40850508 0.44741292 0.43330552]\n"
     ]
    },
    {
     "name": "stderr",
     "output_type": "stream",
     "text": [
      " 59%|█████▊    | 586/1000 [2:38:40<2:05:11, 18.14s/it]"
     ]
    },
    {
     "name": "stdout",
     "output_type": "stream",
     "text": [
      "avg rewards: -1.928\tavg slowdowns: 5.868  fjc: 889\n",
      "[0.40850508 0.44741292 0.43330552]\n"
     ]
    },
    {
     "name": "stderr",
     "output_type": "stream",
     "text": [
      " 59%|█████▉    | 591/1000 [2:39:55<1:56:18, 17.06s/it]"
     ]
    },
    {
     "name": "stdout",
     "output_type": "stream",
     "text": [
      "avg rewards: -1.911\tavg slowdowns: 5.902  fjc: 889\n",
      "[0.40791304 0.44676449 0.43267754]\n"
     ]
    },
    {
     "name": "stderr",
     "output_type": "stream",
     "text": [
      " 60%|█████▉    | 596/1000 [2:41:10<1:54:01, 16.93s/it]"
     ]
    },
    {
     "name": "stdout",
     "output_type": "stream",
     "text": [
      "avg rewards: -1.879\tavg slowdowns: 5.756  fjc: 889\n",
      "[0.41269795 0.45200513 0.43775293]\n"
     ]
    },
    {
     "name": "stderr",
     "output_type": "stream",
     "text": [
      " 60%|██████    | 601/1000 [2:42:26<1:51:52, 16.82s/it]"
     ]
    },
    {
     "name": "stdout",
     "output_type": "stream",
     "text": [
      "avg rewards: -1.850\tavg slowdowns: 5.737  fjc: 889\n",
      "[0.40367157 0.44211904 0.42817856]\n"
     ]
    },
    {
     "name": "stderr",
     "output_type": "stream",
     "text": [
      " 61%|██████    | 606/1000 [2:43:36<1:40:39, 15.33s/it]"
     ]
    },
    {
     "name": "stdout",
     "output_type": "stream",
     "text": [
      "avg rewards: -1.952\tavg slowdowns: 6.094  fjc: 889\n",
      "[0.40850508 0.44741292 0.43330552]\n"
     ]
    },
    {
     "name": "stderr",
     "output_type": "stream",
     "text": [
      " 61%|██████    | 611/1000 [2:44:56<1:46:58, 16.50s/it]"
     ]
    },
    {
     "name": "stdout",
     "output_type": "stream",
     "text": [
      "avg rewards: -1.860\tavg slowdowns: 5.789  fjc: 889\n",
      "[0.40570811 0.44434955 0.43033874]\n"
     ]
    },
    {
     "name": "stderr",
     "output_type": "stream",
     "text": [
      " 62%|██████▏   | 616/1000 [2:46:10<1:47:13, 16.75s/it]"
     ]
    },
    {
     "name": "stdout",
     "output_type": "stream",
     "text": [
      "avg rewards: -1.919\tavg slowdowns: 6.045  fjc: 889\n",
      "[0.40468728 0.44323149 0.42925593]\n"
     ]
    },
    {
     "name": "stderr",
     "output_type": "stream",
     "text": [
      " 62%|██████▏   | 621/1000 [2:47:26<1:45:53, 16.76s/it]"
     ]
    },
    {
     "name": "stdout",
     "output_type": "stream",
     "text": [
      "avg rewards: -1.896\tavg slowdowns: 5.835  fjc: 889\n",
      "[0.40850508 0.44741292 0.43330552]\n"
     ]
    },
    {
     "name": "stderr",
     "output_type": "stream",
     "text": [
      " 63%|██████▎   | 626/1000 [2:48:51<1:55:18, 18.50s/it]"
     ]
    },
    {
     "name": "stdout",
     "output_type": "stream",
     "text": [
      "avg rewards: -1.999\tavg slowdowns: 6.215  fjc: 889\n",
      "[0.40658722 0.44531239 0.43127122]\n"
     ]
    },
    {
     "name": "stderr",
     "output_type": "stream",
     "text": [
      " 63%|██████▎   | 631/1000 [2:50:12<1:48:59, 17.72s/it]"
     ]
    },
    {
     "name": "stdout",
     "output_type": "stream",
     "text": [
      "avg rewards: -1.918\tavg slowdowns: 6.035  fjc: 889\n",
      "[0.40323782 0.44164398 0.42771848]\n"
     ]
    },
    {
     "name": "stderr",
     "output_type": "stream",
     "text": [
      " 64%|██████▎   | 636/1000 [2:51:26<1:45:27, 17.38s/it]"
     ]
    },
    {
     "name": "stdout",
     "output_type": "stream",
     "text": [
      "avg rewards: -1.912\tavg slowdowns: 5.905  fjc: 889\n",
      "[0.40999272 0.44904224 0.43488347]\n"
     ]
    },
    {
     "name": "stderr",
     "output_type": "stream",
     "text": [
      " 64%|██████▍   | 641/1000 [2:52:39<1:40:09, 16.74s/it]"
     ]
    },
    {
     "name": "stdout",
     "output_type": "stream",
     "text": [
      "avg rewards: -1.965\tavg slowdowns: 6.153  fjc: 889\n",
      "[0.40497842 0.44355036 0.42956475]\n"
     ]
    },
    {
     "name": "stderr",
     "output_type": "stream",
     "text": [
      " 65%|██████▍   | 646/1000 [2:53:55<1:36:31, 16.36s/it]"
     ]
    },
    {
     "name": "stdout",
     "output_type": "stream",
     "text": [
      "avg rewards: -1.817\tavg slowdowns: 5.639  fjc: 889\n",
      "[0.40570811 0.44434955 0.43033874]\n"
     ]
    },
    {
     "name": "stderr",
     "output_type": "stream",
     "text": [
      " 65%|██████▌   | 651/1000 [2:55:15<1:39:08, 17.05s/it]"
     ]
    },
    {
     "name": "stdout",
     "output_type": "stream",
     "text": [
      "avg rewards: -1.896\tavg slowdowns: 5.886  fjc: 889\n",
      "[0.40556196 0.44418948 0.43018372]\n"
     ]
    },
    {
     "name": "stderr",
     "output_type": "stream",
     "text": [
      " 66%|██████▌   | 656/1000 [2:56:38<1:44:11, 18.17s/it]"
     ]
    },
    {
     "name": "stdout",
     "output_type": "stream",
     "text": [
      "avg rewards: -1.874\tavg slowdowns: 5.889  fjc: 889\n",
      "[0.4033823  0.44180222 0.42787173]\n"
     ]
    },
    {
     "name": "stderr",
     "output_type": "stream",
     "text": [
      " 66%|██████▌   | 661/1000 [2:58:16<1:54:53, 20.34s/it]"
     ]
    },
    {
     "name": "stdout",
     "output_type": "stream",
     "text": [
      "avg rewards: -1.943\tavg slowdowns: 6.127  fjc: 889\n",
      "[0.40208571 0.44038214 0.42649643]\n"
     ]
    },
    {
     "name": "stderr",
     "output_type": "stream",
     "text": [
      " 67%|██████▋   | 666/1000 [2:59:41<1:45:07, 18.88s/it]"
     ]
    },
    {
     "name": "stdout",
     "output_type": "stream",
     "text": [
      "avg rewards: -1.874\tavg slowdowns: 5.750  fjc: 889\n",
      "[0.41179225 0.45101317 0.43679225]\n"
     ]
    },
    {
     "name": "stderr",
     "output_type": "stream",
     "text": [
      " 67%|██████▋   | 671/1000 [3:01:00<1:38:38, 17.99s/it]"
     ]
    },
    {
     "name": "stdout",
     "output_type": "stream",
     "text": [
      "avg rewards: -1.844\tavg slowdowns: 5.640  fjc: 889\n",
      "[0.40895024 0.44790047 0.4337777 ]\n"
     ]
    },
    {
     "name": "stderr",
     "output_type": "stream",
     "text": [
      " 68%|██████▊   | 676/1000 [3:02:22<1:38:52, 18.31s/it]"
     ]
    },
    {
     "name": "stdout",
     "output_type": "stream",
     "text": [
      "avg rewards: -2.016\tavg slowdowns: 6.197  fjc: 889\n",
      "[0.40880174 0.44773784 0.43362019]\n"
     ]
    },
    {
     "name": "stderr",
     "output_type": "stream",
     "text": [
      " 68%|██████▊   | 681/1000 [3:03:38<1:29:30, 16.83s/it]"
     ]
    },
    {
     "name": "stdout",
     "output_type": "stream",
     "text": [
      "avg rewards: -1.901\tavg slowdowns: 5.901  fjc: 889\n",
      "[0.40497842 0.44355036 0.42956475]\n"
     ]
    },
    {
     "name": "stderr",
     "output_type": "stream",
     "text": [
      " 69%|██████▊   | 686/1000 [3:04:49<1:22:08, 15.69s/it]"
     ]
    },
    {
     "name": "stdout",
     "output_type": "stream",
     "text": [
      "avg rewards: -1.887\tavg slowdowns: 5.811  fjc: 889\n",
      "[0.40761767 0.44644098 0.43236423]\n"
     ]
    },
    {
     "name": "stderr",
     "output_type": "stream",
     "text": [
      " 69%|██████▉   | 691/1000 [3:06:01<1:22:43, 16.06s/it]"
     ]
    },
    {
     "name": "stdout",
     "output_type": "stream",
     "text": [
      "avg rewards: -2.038\tavg slowdowns: 6.372  fjc: 889\n",
      "[0.4067341  0.44547327 0.43142702]\n"
     ]
    },
    {
     "name": "stderr",
     "output_type": "stream",
     "text": [
      " 70%|██████▉   | 696/1000 [3:07:30<1:28:32, 17.47s/it]"
     ]
    },
    {
     "name": "stdout",
     "output_type": "stream",
     "text": [
      "avg rewards: -1.836\tavg slowdowns: 5.804  fjc: 889\n",
      "[0.40323782 0.44164398 0.42771848]\n"
     ]
    },
    {
     "name": "stderr",
     "output_type": "stream",
     "text": [
      " 70%|███████   | 701/1000 [3:08:22<1:03:53, 12.82s/it]"
     ]
    },
    {
     "name": "stdout",
     "output_type": "stream",
     "text": [
      "avg rewards: -1.897\tavg slowdowns: 5.800  fjc: 889\n",
      "[0.40835691 0.44725063 0.43314835]\n"
     ]
    },
    {
     "name": "stderr",
     "output_type": "stream",
     "text": [
      " 71%|███████   | 706/1000 [3:09:19<1:01:15, 12.50s/it]"
     ]
    },
    {
     "name": "stdout",
     "output_type": "stream",
     "text": [
      "avg rewards: -1.876\tavg slowdowns: 5.790  fjc: 889\n",
      "[0.40791304 0.44676449 0.43267754]\n"
     ]
    },
    {
     "name": "stderr",
     "output_type": "stream",
     "text": [
      " 71%|███████   | 711/1000 [3:10:12<58:58, 12.24s/it]  "
     ]
    },
    {
     "name": "stdout",
     "output_type": "stream",
     "text": [
      "avg rewards: -1.735\tavg slowdowns: 5.447  fjc: 889\n",
      "[0.40497842 0.44355036 0.42956475]\n"
     ]
    },
    {
     "name": "stderr",
     "output_type": "stream",
     "text": [
      " 72%|███████▏  | 716/1000 [3:11:06<57:45, 12.20s/it]"
     ]
    },
    {
     "name": "stdout",
     "output_type": "stream",
     "text": [
      "avg rewards: -1.885\tavg slowdowns: 5.887  fjc: 889\n",
      "[0.40570811 0.44434955 0.43033874]\n"
     ]
    },
    {
     "name": "stderr",
     "output_type": "stream",
     "text": [
      " 72%|███████▏  | 721/1000 [3:11:55<52:53, 11.37s/it]"
     ]
    },
    {
     "name": "stdout",
     "output_type": "stream",
     "text": [
      "avg rewards: -1.920\tavg slowdowns: 5.910  fjc: 889\n",
      "[0.40747014 0.44627941 0.43220775]\n"
     ]
    },
    {
     "name": "stderr",
     "output_type": "stream",
     "text": [
      " 73%|███████▎  | 726/1000 [3:12:48<53:58, 11.82s/it]"
     ]
    },
    {
     "name": "stdout",
     "output_type": "stream",
     "text": [
      "avg rewards: -1.931\tavg slowdowns: 5.944  fjc: 889\n",
      "[0.40895024 0.44790047 0.4337777 ]\n"
     ]
    },
    {
     "name": "stderr",
     "output_type": "stream",
     "text": [
      " 73%|███████▎  | 731/1000 [3:13:39<49:30, 11.04s/it]"
     ]
    },
    {
     "name": "stdout",
     "output_type": "stream",
     "text": [
      "avg rewards: -1.964\tavg slowdowns: 6.049  fjc: 889\n",
      "[0.40556196 0.44418948 0.43018372]\n"
     ]
    },
    {
     "name": "stderr",
     "output_type": "stream",
     "text": [
      " 74%|███████▎  | 736/1000 [3:14:36<55:10, 12.54s/it]"
     ]
    },
    {
     "name": "stdout",
     "output_type": "stream",
     "text": [
      "avg rewards: -1.977\tavg slowdowns: 6.126  fjc: 889\n",
      "[0.40865336 0.44757532 0.43346279]\n"
     ]
    },
    {
     "name": "stderr",
     "output_type": "stream",
     "text": [
      " 74%|███████▍  | 741/1000 [3:15:30<51:54, 12.02s/it]"
     ]
    },
    {
     "name": "stdout",
     "output_type": "stream",
     "text": [
      "avg rewards: -1.936\tavg slowdowns: 6.099  fjc: 889\n",
      "[0.40512415 0.44370997 0.42971932]\n"
     ]
    },
    {
     "name": "stderr",
     "output_type": "stream",
     "text": [
      " 75%|███████▍  | 746/1000 [3:16:25<50:38, 11.96s/it]"
     ]
    },
    {
     "name": "stdout",
     "output_type": "stream",
     "text": [
      "avg rewards: -1.967\tavg slowdowns: 6.155  fjc: 889\n",
      "[0.40266094 0.44101216 0.42710658]\n"
     ]
    },
    {
     "name": "stderr",
     "output_type": "stream",
     "text": [
      " 75%|███████▌  | 751/1000 [3:17:18<48:39, 11.72s/it]"
     ]
    },
    {
     "name": "stdout",
     "output_type": "stream",
     "text": [
      "avg rewards: -1.942\tavg slowdowns: 6.041  fjc: 889\n",
      "[0.40865336 0.44757532 0.43346279]\n"
     ]
    },
    {
     "name": "stderr",
     "output_type": "stream",
     "text": [
      " 76%|███████▌  | 756/1000 [3:18:12<51:16, 12.61s/it]"
     ]
    },
    {
     "name": "stdout",
     "output_type": "stream",
     "text": [
      "avg rewards: -1.837\tavg slowdowns: 5.684  fjc: 889\n",
      "[0.40512415 0.44370997 0.42971932]\n"
     ]
    },
    {
     "name": "stderr",
     "output_type": "stream",
     "text": [
      " 76%|███████▌  | 761/1000 [3:19:08<50:52, 12.77s/it]"
     ]
    },
    {
     "name": "stdout",
     "output_type": "stream",
     "text": [
      "avg rewards: -1.891\tavg slowdowns: 5.987  fjc: 889\n",
      "[0.40410625 0.44259512 0.42863963]\n"
     ]
    },
    {
     "name": "stderr",
     "output_type": "stream",
     "text": [
      " 77%|███████▋  | 766/1000 [3:19:58<45:03, 11.55s/it]"
     ]
    },
    {
     "name": "stdout",
     "output_type": "stream",
     "text": [
      "avg rewards: -1.896\tavg slowdowns: 5.935  fjc: 889\n",
      "[0.40600072 0.44467003 0.43064912]\n"
     ]
    },
    {
     "name": "stderr",
     "output_type": "stream",
     "text": [
      " 77%|███████▋  | 771/1000 [3:20:55<47:44, 12.51s/it]"
     ]
    },
    {
     "name": "stdout",
     "output_type": "stream",
     "text": [
      "avg rewards: -1.875\tavg slowdowns: 5.863  fjc: 889\n",
      "[0.40541592 0.44402953 0.43002881]\n"
     ]
    },
    {
     "name": "stderr",
     "output_type": "stream",
     "text": [
      " 78%|███████▊  | 776/1000 [3:21:47<44:08, 11.82s/it]"
     ]
    },
    {
     "name": "stdout",
     "output_type": "stream",
     "text": [
      "avg rewards: -1.854\tavg slowdowns: 5.735  fjc: 889\n",
      "[0.40644043 0.44515162 0.43111552]\n"
     ]
    },
    {
     "name": "stderr",
     "output_type": "stream",
     "text": [
      " 78%|███████▊  | 781/1000 [3:22:37<39:54, 10.93s/it]"
     ]
    },
    {
     "name": "stdout",
     "output_type": "stream",
     "text": [
      "avg rewards: -1.872\tavg slowdowns: 5.892  fjc: 889\n",
      "[0.4067341  0.44547327 0.43142702]\n"
     ]
    },
    {
     "name": "stderr",
     "output_type": "stream",
     "text": [
      " 79%|███████▊  | 786/1000 [3:23:29<40:14, 11.28s/it]"
     ]
    },
    {
     "name": "stdout",
     "output_type": "stream",
     "text": [
      "avg rewards: -1.927\tavg slowdowns: 6.036  fjc: 889\n",
      "[0.40570811 0.44434955 0.43033874]\n"
     ]
    },
    {
     "name": "stderr",
     "output_type": "stream",
     "text": [
      " 79%|███████▉  | 791/1000 [3:24:16<37:05, 10.65s/it]"
     ]
    },
    {
     "name": "stdout",
     "output_type": "stream",
     "text": [
      "avg rewards: -1.953\tavg slowdowns: 6.062  fjc: 889\n",
      "[0.40541592 0.44402953 0.43002881]\n"
     ]
    },
    {
     "name": "stderr",
     "output_type": "stream",
     "text": [
      " 80%|███████▉  | 796/1000 [3:25:06<38:48, 11.42s/it]"
     ]
    },
    {
     "name": "stdout",
     "output_type": "stream",
     "text": [
      "avg rewards: -1.797\tavg slowdowns: 5.581  fjc: 889\n",
      "[0.40468728 0.44323149 0.42925593]\n"
     ]
    },
    {
     "name": "stderr",
     "output_type": "stream",
     "text": [
      " 80%|████████  | 801/1000 [3:25:59<38:32, 11.62s/it]"
     ]
    },
    {
     "name": "stdout",
     "output_type": "stream",
     "text": [
      "avg rewards: -1.865\tavg slowdowns: 5.829  fjc: 889\n",
      "[0.40541592 0.44402953 0.43002881]\n"
     ]
    },
    {
     "name": "stderr",
     "output_type": "stream",
     "text": [
      " 81%|████████  | 806/1000 [3:26:51<37:43, 11.67s/it]"
     ]
    },
    {
     "name": "stdout",
     "output_type": "stream",
     "text": [
      "avg rewards: -1.907\tavg slowdowns: 5.900  fjc: 889\n",
      "[0.4077653  0.44660268 0.43252083]\n"
     ]
    },
    {
     "name": "stderr",
     "output_type": "stream",
     "text": [
      " 81%|████████  | 811/1000 [3:27:44<38:17, 12.16s/it]"
     ]
    },
    {
     "name": "stdout",
     "output_type": "stream",
     "text": [
      "avg rewards: -1.926\tavg slowdowns: 5.949  fjc: 889\n",
      "[0.40820885 0.44708847 0.4329913 ]\n"
     ]
    },
    {
     "name": "stderr",
     "output_type": "stream",
     "text": [
      " 82%|████████▏ | 816/1000 [3:28:36<35:56, 11.72s/it]"
     ]
    },
    {
     "name": "stdout",
     "output_type": "stream",
     "text": [
      "avg rewards: -1.857\tavg slowdowns: 5.704  fjc: 889\n",
      "[0.41119065 0.45035427 0.43615413]\n"
     ]
    },
    {
     "name": "stderr",
     "output_type": "stream",
     "text": [
      " 82%|████████▏ | 821/1000 [3:29:26<34:13, 11.47s/it]"
     ]
    },
    {
     "name": "stdout",
     "output_type": "stream",
     "text": [
      "avg rewards: -1.942\tavg slowdowns: 6.094  fjc: 889\n",
      "[0.40439655 0.44291307 0.42894756]\n"
     ]
    },
    {
     "name": "stderr",
     "output_type": "stream",
     "text": [
      " 83%|████████▎ | 826/1000 [3:30:18<33:15, 11.47s/it]"
     ]
    },
    {
     "name": "stdout",
     "output_type": "stream",
     "text": [
      "avg rewards: -1.890\tavg slowdowns: 5.841  fjc: 889\n",
      "[0.40954529 0.4485522  0.43440888]\n"
     ]
    },
    {
     "name": "stderr",
     "output_type": "stream",
     "text": [
      " 83%|████████▎ | 831/1000 [3:31:10<31:40, 11.24s/it]"
     ]
    },
    {
     "name": "stdout",
     "output_type": "stream",
     "text": [
      "avg rewards: -1.961\tavg slowdowns: 6.116  fjc: 889\n",
      "[0.40512415 0.44370997 0.42971932]\n"
     ]
    },
    {
     "name": "stderr",
     "output_type": "stream",
     "text": [
      " 84%|████████▎ | 836/1000 [3:32:00<32:15, 11.80s/it]"
     ]
    },
    {
     "name": "stdout",
     "output_type": "stream",
     "text": [
      "avg rewards: -1.878\tavg slowdowns: 5.920  fjc: 889\n",
      "[0.40294918 0.44132785 0.42741231]\n"
     ]
    },
    {
     "name": "stderr",
     "output_type": "stream",
     "text": [
      " 84%|████████▍ | 841/1000 [3:32:50<30:20, 11.45s/it]"
     ]
    },
    {
     "name": "stdout",
     "output_type": "stream",
     "text": [
      "avg rewards: -1.974\tavg slowdowns: 6.110  fjc: 889\n",
      "[0.40658722 0.44531239 0.43127122]\n"
     ]
    },
    {
     "name": "stderr",
     "output_type": "stream",
     "text": [
      " 85%|████████▍ | 846/1000 [3:33:53<34:40, 13.51s/it]"
     ]
    },
    {
     "name": "stdout",
     "output_type": "stream",
     "text": [
      "avg rewards: -1.922\tavg slowdowns: 5.900  fjc: 889\n",
      "[0.4120937  0.45134334 0.43711201]\n"
     ]
    },
    {
     "name": "stderr",
     "output_type": "stream",
     "text": [
      " 85%|████████▌ | 851/1000 [3:34:49<31:01, 12.49s/it]"
     ]
    },
    {
     "name": "stdout",
     "output_type": "stream",
     "text": [
      "avg rewards: -2.018\tavg slowdowns: 6.236  fjc: 889\n",
      "[0.40850508 0.44741292 0.43330552]\n"
     ]
    },
    {
     "name": "stderr",
     "output_type": "stream",
     "text": [
      " 86%|████████▌ | 856/1000 [3:35:40<28:34, 11.91s/it]"
     ]
    },
    {
     "name": "stdout",
     "output_type": "stream",
     "text": [
      "avg rewards: -1.953\tavg slowdowns: 6.147  fjc: 889\n",
      "[0.40079744 0.43897116 0.42512994]\n"
     ]
    },
    {
     "name": "stderr",
     "output_type": "stream",
     "text": [
      " 86%|████████▌ | 861/1000 [3:36:32<27:26, 11.84s/it]"
     ]
    },
    {
     "name": "stdout",
     "output_type": "stream",
     "text": [
      "avg rewards: -1.880\tavg slowdowns: 5.784  fjc: 889\n",
      "[0.41104053 0.45018985 0.43599489]\n"
     ]
    },
    {
     "name": "stderr",
     "output_type": "stream",
     "text": [
      " 87%|████████▋ | 866/1000 [3:37:22<24:53, 11.14s/it]"
     ]
    },
    {
     "name": "stdout",
     "output_type": "stream",
     "text": [
      "avg rewards: -1.980\tavg slowdowns: 6.225  fjc: 889\n",
      "[0.40717541 0.4459566  0.43189512]\n"
     ]
    },
    {
     "name": "stderr",
     "output_type": "stream",
     "text": [
      " 87%|████████▋ | 871/1000 [3:38:17<26:22, 12.27s/it]"
     ]
    },
    {
     "name": "stdout",
     "output_type": "stream",
     "text": [
      "avg rewards: -1.826\tavg slowdowns: 5.692  fjc: 889\n",
      "[0.40208571 0.44038214 0.42649643]\n"
     ]
    },
    {
     "name": "stderr",
     "output_type": "stream",
     "text": [
      " 88%|████████▊ | 876/1000 [3:39:16<26:37, 12.88s/it]"
     ]
    },
    {
     "name": "stdout",
     "output_type": "stream",
     "text": [
      "avg rewards: -1.894\tavg slowdowns: 5.841  fjc: 889\n",
      "[0.40969432 0.44871543 0.43456696]\n"
     ]
    },
    {
     "name": "stderr",
     "output_type": "stream",
     "text": [
      " 88%|████████▊ | 881/1000 [3:40:04<22:43, 11.46s/it]"
     ]
    },
    {
     "name": "stdout",
     "output_type": "stream",
     "text": [
      "avg rewards: -1.864\tavg slowdowns: 5.822  fjc: 889\n",
      "[0.40439655 0.44291307 0.42894756]\n"
     ]
    },
    {
     "name": "stderr",
     "output_type": "stream",
     "text": [
      " 89%|████████▊ | 886/1000 [3:40:58<22:21, 11.77s/it]"
     ]
    },
    {
     "name": "stdout",
     "output_type": "stream",
     "text": [
      "avg rewards: -1.908\tavg slowdowns: 5.904  fjc: 889\n",
      "[0.40512415 0.44370997 0.42971932]\n"
     ]
    },
    {
     "name": "stderr",
     "output_type": "stream",
     "text": [
      " 89%|████████▉ | 891/1000 [3:41:43<19:30, 10.74s/it]"
     ]
    },
    {
     "name": "stdout",
     "output_type": "stream",
     "text": [
      "avg rewards: -1.831\tavg slowdowns: 5.667  fjc: 889\n",
      "[0.40820885 0.44708847 0.4329913 ]\n"
     ]
    },
    {
     "name": "stderr",
     "output_type": "stream",
     "text": [
      " 90%|████████▉ | 896/1000 [3:42:31<19:07, 11.04s/it]"
     ]
    },
    {
     "name": "stdout",
     "output_type": "stream",
     "text": [
      "avg rewards: -1.784\tavg slowdowns: 5.528  fjc: 889\n",
      "[0.40483279 0.44339087 0.42941028]\n"
     ]
    },
    {
     "name": "stderr",
     "output_type": "stream",
     "text": [
      " 90%|█████████ | 901/1000 [3:43:24<19:28, 11.80s/it]"
     ]
    },
    {
     "name": "stdout",
     "output_type": "stream",
     "text": [
      "avg rewards: -1.814\tavg slowdowns: 5.590  fjc: 889\n",
      "[0.40761767 0.44644098 0.43236423]\n"
     ]
    },
    {
     "name": "stderr",
     "output_type": "stream",
     "text": [
      " 91%|█████████ | 906/1000 [3:44:19<18:34, 11.85s/it]"
     ]
    },
    {
     "name": "stdout",
     "output_type": "stream",
     "text": [
      "avg rewards: -1.992\tavg slowdowns: 6.134  fjc: 889\n",
      "[0.40747014 0.44627941 0.43220775]\n"
     ]
    },
    {
     "name": "stderr",
     "output_type": "stream",
     "text": [
      " 91%|█████████ | 911/1000 [3:45:19<19:03, 12.85s/it]"
     ]
    },
    {
     "name": "stdout",
     "output_type": "stream",
     "text": [
      "avg rewards: -1.884\tavg slowdowns: 5.914  fjc: 889\n",
      "[0.40381636 0.44227762 0.42833214]\n"
     ]
    },
    {
     "name": "stderr",
     "output_type": "stream",
     "text": [
      " 92%|█████████▏| 916/1000 [3:46:12<16:37, 11.88s/it]"
     ]
    },
    {
     "name": "stdout",
     "output_type": "stream",
     "text": [
      "avg rewards: -1.881\tavg slowdowns: 5.935  fjc: 889\n",
      "[0.40309345 0.44148586 0.42756534]\n"
     ]
    },
    {
     "name": "stderr",
     "output_type": "stream",
     "text": [
      " 92%|█████████▏| 921/1000 [3:47:02<14:29, 11.00s/it]"
     ]
    },
    {
     "name": "stdout",
     "output_type": "stream",
     "text": [
      "avg rewards: -1.859\tavg slowdowns: 5.663  fjc: 889\n",
      "[0.40909884 0.44806323 0.43393532]\n"
     ]
    },
    {
     "name": "stderr",
     "output_type": "stream",
     "text": [
      " 93%|█████████▎| 926/1000 [3:47:49<13:20, 10.81s/it]"
     ]
    },
    {
     "name": "stdout",
     "output_type": "stream",
     "text": [
      "avg rewards: -1.956\tavg slowdowns: 6.003  fjc: 889\n",
      "[0.40806089 0.44692642 0.43283436]\n"
     ]
    },
    {
     "name": "stderr",
     "output_type": "stream",
     "text": [
      " 93%|█████████▎| 931/1000 [3:48:47<13:55, 12.11s/it]"
     ]
    },
    {
     "name": "stdout",
     "output_type": "stream",
     "text": [
      "avg rewards: -1.913\tavg slowdowns: 5.972  fjc: 889\n",
      "[0.40425135 0.44275404 0.42879354]\n"
     ]
    },
    {
     "name": "stderr",
     "output_type": "stream",
     "text": [
      " 94%|█████████▎| 936/1000 [3:49:39<12:51, 12.05s/it]"
     ]
    },
    {
     "name": "stdout",
     "output_type": "stream",
     "text": [
      "avg rewards: -1.906\tavg slowdowns: 5.976  fjc: 889\n",
      "[0.40425135 0.44275404 0.42879354]\n"
     ]
    },
    {
     "name": "stderr",
     "output_type": "stream",
     "text": [
      " 94%|█████████▍| 941/1000 [3:50:26<10:49, 11.00s/it]"
     ]
    },
    {
     "name": "stdout",
     "output_type": "stream",
     "text": [
      "avg rewards: -1.848\tavg slowdowns: 5.659  fjc: 889\n",
      "[0.40865336 0.44757532 0.43346279]\n"
     ]
    },
    {
     "name": "stderr",
     "output_type": "stream",
     "text": [
      " 95%|█████████▍| 946/1000 [3:51:18<10:07, 11.24s/it]"
     ]
    },
    {
     "name": "stdout",
     "output_type": "stream",
     "text": [
      "avg rewards: -1.974\tavg slowdowns: 6.144  fjc: 889\n",
      "[0.40791304 0.44676449 0.43267754]\n"
     ]
    },
    {
     "name": "stderr",
     "output_type": "stream",
     "text": [
      " 95%|█████████▌| 951/1000 [3:52:07<09:00, 11.03s/it]"
     ]
    },
    {
     "name": "stdout",
     "output_type": "stream",
     "text": [
      "avg rewards: -1.897\tavg slowdowns: 5.909  fjc: 889\n",
      "[0.40895024 0.44790047 0.4337777 ]\n"
     ]
    },
    {
     "name": "stderr",
     "output_type": "stream",
     "text": [
      " 96%|█████████▌| 956/1000 [3:52:57<08:09, 11.12s/it]"
     ]
    },
    {
     "name": "stdout",
     "output_type": "stream",
     "text": [
      "avg rewards: -1.882\tavg slowdowns: 5.814  fjc: 889\n",
      "[0.40747014 0.44627941 0.43220775]\n"
     ]
    },
    {
     "name": "stderr",
     "output_type": "stream",
     "text": [
      " 96%|█████████▌| 961/1000 [3:53:48<07:15, 11.16s/it]"
     ]
    },
    {
     "name": "stdout",
     "output_type": "stream",
     "text": [
      "avg rewards: -1.892\tavg slowdowns: 5.941  fjc: 889\n",
      "[0.40425135 0.44275404 0.42879354]\n"
     ]
    },
    {
     "name": "stderr",
     "output_type": "stream",
     "text": [
      " 97%|█████████▋| 966/1000 [3:54:44<06:59, 12.34s/it]"
     ]
    },
    {
     "name": "stdout",
     "output_type": "stream",
     "text": [
      "avg rewards: -1.921\tavg slowdowns: 5.942  fjc: 889\n",
      "[0.40468728 0.44323149 0.42925593]\n"
     ]
    },
    {
     "name": "stderr",
     "output_type": "stream",
     "text": [
      " 97%|█████████▋| 971/1000 [3:55:37<05:49, 12.06s/it]"
     ]
    },
    {
     "name": "stdout",
     "output_type": "stream",
     "text": [
      "avg rewards: -1.832\tavg slowdowns: 5.693  fjc: 889\n",
      "[0.40585436 0.44450973 0.43049387]\n"
     ]
    },
    {
     "name": "stderr",
     "output_type": "stream",
     "text": [
      " 98%|█████████▊| 976/1000 [3:56:23<04:18, 10.77s/it]"
     ]
    },
    {
     "name": "stdout",
     "output_type": "stream",
     "text": [
      "avg rewards: -1.850\tavg slowdowns: 5.816  fjc: 889\n",
      "[0.40541592 0.44402953 0.43002881]\n"
     ]
    },
    {
     "name": "stderr",
     "output_type": "stream",
     "text": [
      " 98%|█████████▊| 981/1000 [3:57:18<03:49, 12.08s/it]"
     ]
    },
    {
     "name": "stdout",
     "output_type": "stream",
     "text": [
      "avg rewards: -1.871\tavg slowdowns: 5.882  fjc: 889\n",
      "[0.40556196 0.44418948 0.43018372]\n"
     ]
    },
    {
     "name": "stderr",
     "output_type": "stream",
     "text": [
      " 99%|█████████▊| 986/1000 [3:58:09<02:41, 11.54s/it]"
     ]
    },
    {
     "name": "stdout",
     "output_type": "stream",
     "text": [
      "avg rewards: -1.829\tavg slowdowns: 5.654  fjc: 889\n",
      "[0.41044112 0.44953336 0.4353591 ]\n"
     ]
    },
    {
     "name": "stderr",
     "output_type": "stream",
     "text": [
      " 99%|█████████▉| 991/1000 [3:59:01<01:46, 11.81s/it]"
     ]
    },
    {
     "name": "stdout",
     "output_type": "stream",
     "text": [
      "avg rewards: -1.875\tavg slowdowns: 5.817  fjc: 889\n",
      "[0.40454186 0.44307222 0.42910169]\n"
     ]
    },
    {
     "name": "stderr",
     "output_type": "stream",
     "text": [
      "100%|█████████▉| 996/1000 [3:59:50<00:45, 11.34s/it]"
     ]
    },
    {
     "name": "stdout",
     "output_type": "stream",
     "text": [
      "avg rewards: -1.749\tavg slowdowns: 5.483  fjc: 889\n",
      "[0.40108301 0.43928393 0.42543285]\n"
     ]
    },
    {
     "name": "stderr",
     "output_type": "stream",
     "text": [
      "100%|██████████| 1000/1000 [4:00:29<00:00,  9.97s/it]\n"
     ]
    }
   ],
   "source": [
    "\n",
    "from tqdm import tqdm\n",
    "importlib.reload(a2c)\n",
    "\n",
    "def get_trajs(model, env, seq_no=5):\n",
    "    ep_buffer = []\n",
    "\n",
    "    list_s, list_a, list_r, list_y = [], [], [], []\n",
    "    s = env.reset(seq_no=seq_no)\n",
    "    for ep_len in range(config['ep_force_stop']):\n",
    "        action, _ = model.get_action(s)\n",
    "        s2, r, done, info = env.step(action)\n",
    "        list_s.append(s)\n",
    "        list_a.append(action)\n",
    "        list_r.append(r)\n",
    "        if done:\n",
    "            break\n",
    "        s = s2\n",
    "    return list_s, list_a, list_r\n",
    "\n",
    "envs = []\n",
    "for i in range(10):\n",
    "    envs.append(get_env(\"configs/env.json\"))\n",
    "    \n",
    "def __main__():\n",
    "    #trajWorkers = [traj_worker(model) for _ in range(num_train_seq)]\n",
    "    model = a2c.model(\n",
    "        discount, state_size, input_size, embedding_size, hidden_size,\n",
    "        max_job_length, capa)\n",
    "    def call(model, env):\n",
    "        sqno = np.random.randint(0, 100)\n",
    "        obs, acts, rews = get_trajs(model, env, seq_no=sqno)\n",
    "        al, cl = model.train(obs, rews, acts)\n",
    "        return al, cl\n",
    "    with ThreadPoolExecutor(max_workers=8) as ex:\n",
    "        for iter in tqdm(range(1000)):\n",
    "            fts = []\n",
    "            for i in range(8):\n",
    "                fts.append(ex.submit(call, model, envs[i]))\n",
    "            for future in as_completed(fts):\n",
    "                al, cl = future.result()\n",
    "            if (iter % 5) == 0:\n",
    "                rews = []\n",
    "                slowdowns = []\n",
    "                fjc = []\n",
    "                usages = np.empty(shape=(0, 3))\n",
    "\n",
    "                for i in range(30):\n",
    "                    s = env.reset(seq_no=100 + i)\n",
    "                    rr = []\n",
    "                    for ep_len in range(config['ep_force_stop']):\n",
    "                        action, _ = model.get_action(s)\n",
    "                        usage = (100 - env.machine.avbl_slot[0]) / 100.0\n",
    "                        #print(usage)\n",
    "                        usages = np.vstack([usages, usage])\n",
    "\n",
    "                        s2, r, done, info = env.step(action)\n",
    "                        rr.append(r)\n",
    "                        if done:\n",
    "                            break\n",
    "                        s = s2\n",
    "                    rews.append(np.mean(rr))\n",
    "                    fjc.append(finisihed_job_cnt(info))\n",
    "                    slowdowns.append(get_avg_slowdown(info))\n",
    "                print(\"avg rewards: %0.3f\\tavg slowdowns: %0.3f  fjc: %d\" %\n",
    "                        (np.mean(rews), np.mean(slowdowns), np.sum(fjc)))\n",
    "                print(np.mean(usages, axis=0))\n",
    "\n",
    "if __name__ == \"__main__\":\n",
    "    __main__()\n"
   ]
  },
  {
   "cell_type": "code",
   "execution_count": null,
   "metadata": {},
   "outputs": [],
   "source": []
  }
 ],
 "metadata": {
  "kernelspec": {
   "display_name": "Python 3",
   "language": "python",
   "name": "python3"
  },
  "language_info": {
   "codemirror_mode": {
    "name": "ipython",
    "version": 3
   },
   "file_extension": ".py",
   "mimetype": "text/x-python",
   "name": "python",
   "nbconvert_exporter": "python",
   "pygments_lexer": "ipython3",
   "version": "3.6.6"
  }
 },
 "nbformat": 4,
 "nbformat_minor": 2
}
